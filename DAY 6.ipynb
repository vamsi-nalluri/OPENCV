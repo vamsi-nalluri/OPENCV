{
 "cells": [
  {
   "cell_type": "code",
   "execution_count": 2,
   "id": "1d5af5aa-d07f-414e-b778-47d76d999597",
   "metadata": {},
   "outputs": [
    {
     "name": "stdout",
     "output_type": "stream",
     "text": [
      "Actual time is 9 seconds\n"
     ]
    },
    {
     "name": "stdin",
     "output_type": "stream",
     "text": [
      "\n",
      "Enter starting second:\t 1\n",
      "\n",
      "Enter ending second:\t 2\n"
     ]
    },
    {
     "name": "stdout",
     "output_type": "stream",
     "text": [
      "\n",
      "Done\n"
     ]
    }
   ],
   "source": [
    "import cv2\n",
    "vid = cv2.VideoCapture('mySkillVideo.avi')\n",
    "count = 0\n",
    "fps = int(vid.get(cv2.CAP_PROP_FPS))\n",
    "height=int(vid.get(cv2.CAP_PROP_FRAME_HEIGHT))\n",
    "width=int(vid.get(cv2.CAP_PROP_FRAME_WIDTH))\n",
    "print(\"Actual time is 9 seconds\")\n",
    "vid1 = cv2.VideoWriter(\"trim2.mp4\",0, fps, (height, width))\n",
    "start_sec =int(input(\"\\nEnter starting second:\\t\"))\n",
    "end_sec =int(input(\"\\nEnter ending second:\\t\"))\n",
    "while vid.isOpened():\n",
    "    ret, frame = vid.read()\n",
    "    if not ret:\n",
    "        break\n",
    "    if start_sec <=count <=end_sec:\n",
    "        vid1.write(frame)\n",
    "    count += 1\n",
    "print(\"\\nDone\") \n",
    "vid.release()\n",
    "vid1.release()\n",
    "cv2.destroyAllWindows()"
   ]
  },
  {
   "cell_type": "code",
   "execution_count": 3,
   "id": "777635fc-3813-4c9d-84ec-b0575538d88d",
   "metadata": {},
   "outputs": [
    {
     "name": "stdout",
     "output_type": "stream",
     "text": [
      "\n",
      "Done\n"
     ]
    }
   ],
   "source": [
    "import cv2\n",
    "vid = cv2.VideoCapture('mySkillVideo.avi')\n",
    "vid1 = cv2.VideoCapture('trim.avi')\n",
    "fps1 = int(vid.get(cv2.CAP_PROP_FPS))\n",
    "fps2 = int(vid1.get(cv2.CAP_PROP_FPS))\n",
    "height=int(vid.get(cv2.CAP_PROP_FRAME_HEIGHT))\n",
    "width=int(vid.get(cv2.CAP_PROP_FRAME_WIDTH))\n",
    "height1=int(vid1.get(cv2.CAP_PROP_FRAME_HEIGHT))\n",
    "width1=int(vid1.get(cv2.CAP_PROP_FRAME_WIDTH))\n",
    "h=max(height,height1)\n",
    "w=max(width,width1)\n",
    "count, start_sec,start_sec2, c= 0,0,0,0\n",
    "end_sec=fps1*10\n",
    "end_sec2=fps2*10\n",
    "vid2 = cv2.VideoWriter(\"merged.avi\",0, fps1, (w,h))\n",
    "while vid.isOpened():\n",
    "    ret, frame = vid.read()\n",
    "    if not ret:\n",
    "        break\n",
    "    if start_sec <=count <=end_sec:\n",
    "        vid2.write(frame)        \n",
    "    count += 1\n",
    "while vid1.isOpened():\n",
    "    r,f=vid1.read()\n",
    "    if not r:\n",
    "        break\n",
    "    if start_sec2<=c<=end_sec2:\n",
    "        vid2.write(f)\n",
    "    c+=1\n",
    "print(\"\\nDone\")\n",
    "vid.release()\n",
    "vid1.release()\n",
    "vid2.release()\n",
    "cv2.destroyAllWindows()"
   ]
  },
  {
   "cell_type": "code",
   "execution_count": 12,
   "id": "33880f34-ba00-4bd0-988a-3a573b908fec",
   "metadata": {},
   "outputs": [
    {
     "name": "stdout",
     "output_type": "stream",
     "text": [
      "24\n"
     ]
    }
   ],
   "source": [
    "import cv2\n",
    "vid = cv2.VideoCapture('song.mp4')\n",
    "count = 0\n",
    "fps = int(vid.get(cv2.CAP_PROP_FPS))\n",
    "height=int(vid.get(cv2.CAP_PROP_FRAME_HEIGHT))\n",
    "width=int(vid.get(cv2.CAP_PROP_FRAME_WIDTH))\n",
    "vid1 = cv2.VideoWriter(\"canny_edge.mp4\",0,fps, (width,height))\n",
    "start_sec = 0\n",
    "end_sec = fps * 10\n",
    "while vid.isOpened():\n",
    "    ret, frame = vid.read()\n",
    "    if not ret:\n",
    "        break    \n",
    "    if start_sec <= count < end_sec:\n",
    "        vid1.write(cv2.Canny(frame, 40, 100))\n",
    "    count += 1\n",
    "print(fps)\n",
    "vid.release()\n",
    "vid1.release()\n",
    "cv2.destroyAllWindows()"
   ]
  },
  {
   "cell_type": "code",
   "execution_count": 17,
   "id": "a4223e3a-c38d-43fc-af4a-3df52e5f52cc",
   "metadata": {},
   "outputs": [
    {
     "ename": "TypeError",
     "evalue": "Can't convert object to 'str' for 'filename'",
     "output_type": "error",
     "traceback": [
      "\u001b[1;31m---------------------------------------------------------------------------\u001b[0m",
      "\u001b[1;31mTypeError\u001b[0m                                 Traceback (most recent call last)",
      "Cell \u001b[1;32mIn[17], line 33\u001b[0m\n\u001b[0;32m     31\u001b[0m         \u001b[38;5;28;01mbreak\u001b[39;00m    \n\u001b[0;32m     32\u001b[0m     \u001b[38;5;28;01mif\u001b[39;00m start_sec \u001b[38;5;241m<\u001b[39m\u001b[38;5;241m=\u001b[39m count \u001b[38;5;241m<\u001b[39m end_sec:\n\u001b[1;32m---> 33\u001b[0m         vid1\u001b[38;5;241m.\u001b[39mwrite(\u001b[43mhist\u001b[49m\u001b[43m(\u001b[49m\u001b[43mframe\u001b[49m\u001b[43m)\u001b[49m)\n\u001b[0;32m     34\u001b[0m     count \u001b[38;5;241m+\u001b[39m\u001b[38;5;241m=\u001b[39m \u001b[38;5;241m1\u001b[39m\n\u001b[0;32m     35\u001b[0m \u001b[38;5;28mprint\u001b[39m(fps)\n",
      "Cell \u001b[1;32mIn[17], line 5\u001b[0m, in \u001b[0;36mhist\u001b[1;34m(img)\u001b[0m\n\u001b[0;32m      4\u001b[0m \u001b[38;5;28;01mdef\u001b[39;00m \u001b[38;5;21mhist\u001b[39m(img):\n\u001b[1;32m----> 5\u001b[0m     image \u001b[38;5;241m=\u001b[39m \u001b[43mcv2\u001b[49m\u001b[38;5;241;43m.\u001b[39;49m\u001b[43mimread\u001b[49m\u001b[43m(\u001b[49m\u001b[43mimg\u001b[49m\u001b[43m,\u001b[49m\u001b[43m \u001b[49m\u001b[43mcv2\u001b[49m\u001b[38;5;241;43m.\u001b[39;49m\u001b[43mIMREAD_GRAYSCALE\u001b[49m\u001b[43m)\u001b[49m\n\u001b[0;32m      7\u001b[0m     histogram \u001b[38;5;241m=\u001b[39m cv2\u001b[38;5;241m.\u001b[39mcalcHist([image], [\u001b[38;5;241m0\u001b[39m], \u001b[38;5;28;01mNone\u001b[39;00m, [\u001b[38;5;241m256\u001b[39m], [\u001b[38;5;241m0\u001b[39m, \u001b[38;5;241m256\u001b[39m])\n\u001b[0;32m      8\u001b[0m     hist_image \u001b[38;5;241m=\u001b[39m np\u001b[38;5;241m.\u001b[39mzeros((\u001b[38;5;241m100\u001b[39m, \u001b[38;5;241m256\u001b[39m), dtype\u001b[38;5;241m=\u001b[39mnp\u001b[38;5;241m.\u001b[39muint8)\n",
      "\u001b[1;31mTypeError\u001b[0m: Can't convert object to 'str' for 'filename'"
     ]
    }
   ],
   "source": [
    "import cv2\n",
    "import numpy as np\n",
    "\n",
    "def hist(img):\n",
    "    image = cv2.imread(img, cv2.IMREAD_GRAYSCALE)\n",
    "    \n",
    "    histogram = cv2.calcHist([image], [0], None, [256], [0, 256])\n",
    "    hist_image = np.zeros((100, 256), dtype=np.uint8)\n",
    "    cv2.normalize(histogram, histogram, 0, hist_image.shape[0], cv2.NORM_MINMAX)\n",
    "    \n",
    "    for i in range(256):\n",
    "        cv2.line(hist_image, (i, hist_image.shape[0]), (i, hist_image.shape[0] - int(histogram[i])), 0)\n",
    "\n",
    "    return hist_image\n",
    "\n",
    "\n",
    "\n",
    "\n",
    "\n",
    "vid = cv2.VideoCapture('song.mp4')\n",
    "count = 0\n",
    "fps = int(vid.get(cv2.CAP_PROP_FPS))\n",
    "height=int(vid.get(cv2.CAP_PROP_FRAME_HEIGHT))\n",
    "width=int(vid.get(cv2.CAP_PROP_FRAME_WIDTH))\n",
    "vid1 = cv2.VideoWriter(\"Hist.mp4\",0,fps, (width,height))\n",
    "start_sec = 0\n",
    "end_sec = fps * 10\n",
    "while vid.isOpened():\n",
    "    ret, frame = vid.read()\n",
    "    if not ret:\n",
    "        break    \n",
    "    if start_sec <= count < end_sec:\n",
    "        vid1.write(hist(frame))\n",
    "    count += 1\n",
    "print(fps)\n",
    "vid.release()\n",
    "vid1.release()\n",
    "cv2.destroyAllWindows()"
   ]
  },
  {
   "cell_type": "code",
   "execution_count": 14,
   "id": "4f8373cb-d3fe-4f27-88ae-686661dd7317",
   "metadata": {},
   "outputs": [],
   "source": [
    "\n",
    "import cv2\n",
    "\n",
    "face = cv2.CascadeClassifier(cv2.data.haarcascades + 'haarcascade_frontalface_default.xml')\n",
    "image_path = 'cbn_grup2.jpg'\n",
    "img = cv2.imread(image_path)\n",
    "gray_img = cv2.cvtColor(img, cv2.COLOR_BGR2GRAY)\n",
    "faces = face.detectMultiScale(gray_img, scaleFactor=1.3, minNeighbors=5)\n",
    "for (x, y, w, h) in faces:\n",
    "    cv2.rectangle(img, (x, y), (x+w, y+h), (255, 0, 0), 2)\n",
    "cv2.imshow('Detected Faces', img)\n",
    "cv2.waitKey(0)\n",
    "cv2.destroyAllWindows()"
   ]
  },
  {
   "cell_type": "code",
   "execution_count": 19,
   "id": "b7962c8a-d8ec-48b2-be43-002a6dc73f82",
   "metadata": {},
   "outputs": [],
   "source": [
    "\n",
    "import cv2\n",
    "\n",
    "face = cv2.CascadeClassifier(cv2.data.haarcascades + 'haarcascade_eye.xml')\n",
    "image_path = 'cbn_grup2.jpg'\n",
    "img = cv2.imread(image_path)\n",
    "gray_img = cv2.cvtColor(img, cv2.COLOR_BGR2GRAY)\n",
    "faces = face.detectMultiScale(gray_img, scaleFactor=1.3, minNeighbors=5)\n",
    "for (x, y, w, h) in faces:\n",
    "    cv2.rectangle(img, (x, y), (x+w, y+h), (255, 0, 0), 2)\n",
    "cv2.imshow('Detected Faces', img)\n",
    "cv2.waitKey(0)\n",
    "cv2.destroyAllWindows()"
   ]
  },
  {
   "cell_type": "code",
   "execution_count": 20,
   "id": "2d5a6ebd-ce72-4de8-86c7-97cbe2c3a2b3",
   "metadata": {},
   "outputs": [],
   "source": [
    "\n",
    "import cv2\n",
    "\n",
    "face = cv2.CascadeClassifier(cv2.data.haarcascades + 'haarcascade_eye_tree_eyeglasses.xml')\n",
    "image_path = 'cbn_grup2.jpg'\n",
    "img = cv2.imread(image_path)\n",
    "gray_img = cv2.cvtColor(img, cv2.COLOR_BGR2GRAY)\n",
    "faces = face.detectMultiScale(gray_img, scaleFactor=1.3, minNeighbors=5)\n",
    "for (x, y, w, h) in faces:\n",
    "    cv2.rectangle(img, (x, y), (x+w, y+h), (255, 0, 0), 2)\n",
    "cv2.imshow('Detected Faces', img)\n",
    "cv2.waitKey(0)\n",
    "cv2.destroyAllWindows()"
   ]
  },
  {
   "cell_type": "code",
   "execution_count": 23,
   "id": "f761e322-b948-49fb-91c0-122572649009",
   "metadata": {},
   "outputs": [],
   "source": [
    "\n",
    "import cv2\n",
    "\n",
    "face = cv2.CascadeClassifier(cv2.data.haarcascades + 'haarcascade_lefteye_2splits.xml')\n",
    "image_path = 'cbn_grup2.jpg'\n",
    "img = cv2.imread(image_path)\n",
    "gray_img = cv2.cvtColor(img, cv2.COLOR_BGR2GRAY)\n",
    "faces = face.detectMultiScale(gray_img, scaleFactor=1.3, minNeighbors=5)\n",
    "for (x, y, w, h) in faces:\n",
    "    cv2.rectangle(img, (x, y), (x+w, y+h), (255, 0, 0), 2)\n",
    "cv2.imshow('Detected Faces', img)\n",
    "cv2.waitKey(0)\n",
    "cv2.destroyAllWindows()"
   ]
  },
  {
   "cell_type": "code",
   "execution_count": 24,
   "id": "8902bfbe-ce29-4a8f-a3a7-34665742f77e",
   "metadata": {},
   "outputs": [],
   "source": [
    "\n",
    "import cv2\n",
    "\n",
    "face = cv2.CascadeClassifier(cv2.data.haarcascades + 'haarcascade_smile.xml')\n",
    "image_path = 'cbn_grup2.jpg'\n",
    "img = cv2.imread(image_path)\n",
    "gray_img = cv2.cvtColor(img, cv2.COLOR_BGR2GRAY)\n",
    "faces = face.detectMultiScale(gray_img, scaleFactor=1.3, minNeighbors=5)\n",
    "for (x, y, w, h) in faces:\n",
    "    cv2.rectangle(img, (x, y), (x+w, y+h), (255, 0, 0), 2)\n",
    "cv2.imshow('Detected Faces', img)\n",
    "cv2.waitKey(0)\n",
    "cv2.destroyAllWindows()"
   ]
  },
  {
   "cell_type": "code",
   "execution_count": 2,
   "id": "e5fe248f-bf6b-4a0a-b164-6c0156c51c33",
   "metadata": {},
   "outputs": [],
   "source": [
    "import cv2\n",
    "\n",
    "face_cascade = cv2.CascadeClassifier(cv2.data.haarcascades + 'haarcascade_frontalface_default.xml')\n",
    "\n",
    "video_capture = cv2.VideoCapture('song.mp4')\n",
    "\n",
    "count = 0\n",
    "\n",
    "while video_capture.isOpened():\n",
    "    ret, frame = video_capture.read()\n",
    "    \n",
    "    if not ret:\n",
    "        break\n",
    "    \n",
    "    if count >= 20:\n",
    "        break\n",
    "\n",
    "    gray_frame = cv2.cvtColor(frame, cv2.COLOR_BGR2GRAY)\n",
    "    faces = face_cascade.detectMultiScale(gray_frame, scaleFactor=1.1, minNeighbors=5)\n",
    "\n",
    "    for (x, y, w, h) in faces:\n",
    "        cv2.rectangle(frame, (x, y), (x + w, y + h), (0, 255, 0), 2)  # Corrected color values\n",
    "\n",
    "    cv2.imwrite(f\"Frame_{count}.jpg\", frame)  # Corrected image filename format\n",
    "    count += 1\n",
    "\n",
    "    cv2.imshow(f'Detected Face Frame {count}', frame)\n",
    "    cv2.waitKey(30)\n",
    "    if cv2.waitKey(1) & 0xFF == ord('q'):\n",
    "        break\n",
    "    \n",
    "video_capture.release()\n",
    "cv2.destroyAllWindows()\n"
   ]
  },
  {
   "cell_type": "code",
   "execution_count": null,
   "id": "e7994ace-1050-446f-aaba-12f38c00098f",
   "metadata": {},
   "outputs": [],
   "source": []
  }
 ],
 "metadata": {
  "kernelspec": {
   "display_name": "Python 3 (ipykernel)",
   "language": "python",
   "name": "python3"
  },
  "language_info": {
   "codemirror_mode": {
    "name": "ipython",
    "version": 3
   },
   "file_extension": ".py",
   "mimetype": "text/x-python",
   "name": "python",
   "nbconvert_exporter": "python",
   "pygments_lexer": "ipython3",
   "version": "3.11.5"
  }
 },
 "nbformat": 4,
 "nbformat_minor": 5
}
