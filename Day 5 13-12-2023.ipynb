{
 "cells": [
  {
   "cell_type": "code",
   "execution_count": 11,
   "id": "260bb9be-10f6-4df6-bc39-f3481ac2bffe",
   "metadata": {},
   "outputs": [],
   "source": [
    "import cv2,os\n",
    "cap=cv2.VideoCapture('mySkillVideo.avi')\n",
    "count = 0\n",
    "while True:\n",
    "    ret, frame = cap.read()\n",
    "    if not ret:\n",
    "        break\n",
    "    count += 1\n",
    "\n",
    "    cv2.imshow(f'Video Frame {count}', frame)\n",
    "    cv2.waitKey(0)\n",
    "  \n",
    "cap.release()\n",
    "cv2.destroyAllWindows()"
   ]
  },
  {
   "cell_type": "code",
   "execution_count": 10,
   "id": "c694d623-287a-4972-a40b-f70d2832ffc9",
   "metadata": {},
   "outputs": [
    {
     "name": "stdout",
     "output_type": "stream",
     "text": [
      "5\n",
      "4\n",
      "3\n",
      "7\n",
      "8\n"
     ]
    }
   ],
   "source": [
    "import cv2,os\n",
    "cap=cv2.VideoCapture('mySkillVideo.avi')\n",
    "count = 0\n",
    "print(cv2.CAP_PROP_FPS)\n",
    "print(cv2.CAP_PROP_FRAME_HEIGHT)\n",
    "print(cv2.CAP_PROP_FRAME_WIDTH)\n",
    "print(cv2.CAP_PROP_FRAME_COUNT)\n",
    "print(cv2.CAP_PROP_FORMAT)\n",
    "while cap.isOpened():\n",
    "    ret, frame = cap.read()\n",
    "    if not ret:\n",
    "        break\n",
    "    count += 1\n",
    "\n",
    "    #cv2.imshow(f'Video Frame {count}', frame)\n",
    "    #cv2.waitKey(0)\n",
    "  \n",
    "cap.release()\n",
    "cv2.destroyAllWindows()"
   ]
  },
  {
   "cell_type": "code",
   "execution_count": 9,
   "id": "eab78d66-c91a-446d-8093-b94365e3092a",
   "metadata": {},
   "outputs": [
    {
     "name": "stdout",
     "output_type": "stream",
     "text": [
      "1.0\n",
      "480.0\n",
      "480.0\n",
      "1.0\n",
      "480.0\n",
      "480.0\n",
      "1.0\n",
      "480.0\n",
      "480.0\n",
      "1.0\n",
      "480.0\n",
      "480.0\n",
      "1.0\n",
      "480.0\n",
      "480.0\n"
     ]
    }
   ],
   "source": [
    "import cv2,os\n",
    "cap=cv2.VideoCapture('mySkillVideo.avi')\n",
    "count = 0\n",
    "\"\"\"print(cv2.CAP_PROP_FPS)\n",
    "print(cv2.CAP_PROP_FRAME_HEIGHT)\n",
    "print(cv2.CAP_PROP_FRAME_WIDTH)\n",
    "print(cv2.CAP_PROP_FRAME_COUNT)\n",
    "print(cv2.CAP_PROP_FORMAT)\n",
    "\"\"\"\n",
    "\n",
    "while cap.isOpened():\n",
    "    ret, frame = cap.read()\n",
    "    print(cap.get(cv2.CAP_PROP_FPS))\n",
    "    print(cap.get(cv2.CAP_PROP_FRAME_HEIGHT))\n",
    "    print(cap.get(cv2.CAP_PROP_FRAME_WIDTH))\n",
    "    if not ret:\n",
    "        break\n",
    "    count += 1\n",
    "cap.release()\n",
    "cv2.destroyAllWindows()\n"
   ]
  },
  {
   "cell_type": "code",
   "execution_count": 14,
   "id": "c4e1d3e4-e3c0-4278-a595-98dfdb6aea5d",
   "metadata": {},
   "outputs": [
    {
     "data": {
      "text/plain": [
       "7"
      ]
     },
     "execution_count": 14,
     "metadata": {},
     "output_type": "execute_result"
    }
   ],
   "source": [
    "cv2.CAP_PROP_FRAME_COUNT"
   ]
  },
  {
   "cell_type": "code",
   "execution_count": 2,
   "id": "0fa40aeb-cced-4ab8-a8e5-857da404dad6",
   "metadata": {},
   "outputs": [
    {
     "name": "stdout",
     "output_type": "stream",
     "text": [
      "30.0\n",
      "1280.0\n",
      "720.0\n",
      "0.0\n"
     ]
    }
   ],
   "source": [
    "import cv2\n",
    "vid=cv2.VideoCapture('Tom.mp4')\n",
    "count = 0\n",
    "print(vid.get(cv2.CAP_PROP_FPS))\n",
    "print(vid.get(cv2.CAP_PROP_FRAME_HEIGHT))\n",
    "print(vid.get(cv2.CAP_PROP_FRAME_WIDTH))\n",
    "print(vid.get(cv2.CAP_PROP_AUDIO_TOTAL_CHANNELS))\n",
    "while vid.isOpened():\n",
    "    ret, frame = vid.read()\n",
    "    if not ret:break\n",
    "    if count >=10:\n",
    "        break\n",
    "    cv2.imshow(f\"Frame {count}\",frame)\n",
    "    cv2.waitKey(0)\n",
    "    count += 1\n",
    "vid.release()\n",
    "cv2.destroyAllWindows()\n"
   ]
  },
  {
   "cell_type": "code",
   "execution_count": 5,
   "id": "7aa5ef6d-82be-49c5-873a-0d9a6bf354c2",
   "metadata": {},
   "outputs": [],
   "source": [
    "import cv2\n",
    "vid=cv2.VideoCapture('mySkillVideo.avi')\n",
    "count = 0\n",
    "while vid.isOpened():\n",
    "    ret, frame = vid.read()\n",
    "    if not ret:break\n",
    "    if count >=10:\n",
    "        break\n",
    "    cv2.imwrite(f\"Individual Frame {count}.jpg\",frame)\n",
    "    count += 1\n",
    "vid.release()\n",
    "cv2.destroyAllWindows()\n"
   ]
  },
  {
   "cell_type": "code",
   "execution_count": null,
   "id": "27ba07ce-59af-425a-8f71-a731e28d54db",
   "metadata": {},
   "outputs": [],
   "source": []
  },
  {
   "cell_type": "code",
   "execution_count": 51,
   "id": "903ddae7-9f90-4c7f-a40e-2e6f8d371fca",
   "metadata": {},
   "outputs": [],
   "source": [
    "import cv2\n",
    "vid=cv2.VideoCapture('Tom.mp4')\n",
    "count = 0\n",
    "fps=vid.get(cv2.CAP_PROP_FPS)\n",
    "\n",
    "vid2=cv2.VideoWriter('vamsi.mp4',1,fps,(480,480))\n",
    "\n",
    "while vid.isOpened():\n",
    "    ret, frame = vid.read()\n",
    "    if not ret:break\n",
    "    if count <=8:\n",
    "        frame1=cv2.medianBlur(frame,11)\n",
    "        vid2.write(cv2.resize(frame1,(480,480)))\n",
    "    else:\n",
    "        vid2.write(cv2.resize(frame,(480,480)))\n",
    "    count += 1\n",
    "vid.release()\n",
    "cv2.destroyAllWindows()\n"
   ]
  },
  {
   "cell_type": "code",
   "execution_count": 50,
   "id": "1dd9eed6-74e3-4e7d-9120-5cc734c87086",
   "metadata": {},
   "outputs": [],
   "source": [
    "import cv2\n",
    "vid = cv2.VideoCapture('mySkillVideo.avi')\n",
    "count = 0\n",
    "fps = int(vid.get(cv2.CAP_PROP_FPS))\n",
    "vid1 = cv2.VideoWriter(\"newRunning.mp4\",0, fps, (480, 480))\n",
    "start_sec = 0\n",
    "end_sec = fps * 10\n",
    "while vid.isOpened():\n",
    "    ret, frame = vid.read()\n",
    "    if not ret:\n",
    "        break\n",
    "    if start_sec <= count <= end_sec:\n",
    "        blurred_frame = cv2.medianBlur(frame, 15)\n",
    "        vid1.write(cv2.resize(blurred_frame, (480, 480)))\n",
    "    else:\n",
    "        vid1.write(cv2.resize(frame, (480, 480)))\n",
    "    count += 1\n",
    "vid.release()\n",
    "vid1.release()\n",
    "cv2.destroyAllWindows()"
   ]
  },
  {
   "cell_type": "code",
   "execution_count": 54,
   "id": "c72ef615-0c8b-4386-84e3-333e584b3536",
   "metadata": {},
   "outputs": [],
   "source": [
    "import cv2\n",
    "vid = cv2.VideoCapture('Tom.mp4')\n",
    "count = 0\n",
    "fps = int(vid.get(cv2.CAP_PROP_FPS))\n",
    "vid1 = cv2.VideoWriter(\"one.mp4\",0, fps, (480, 480))\n",
    "start_sec = 0\n",
    "end_sec = fps * 10\n",
    "while vid.isOpened():\n",
    "    ret, frame = vid.read()\n",
    "    if not ret:\n",
    "        break\n",
    "    if start_sec <= count <= end_sec:\n",
    "        blurred_frame = cv2.medianBlur(frame, 15)\n",
    "        vid1.write(cv2.resize(blurred_frame, (480, 480)))\n",
    "    else:\n",
    "        vid1.write(cv2.resize(frame, (480, 480)))\n",
    "    count += 1\n",
    "vid.release()\n",
    "vid1.release()\n",
    "cv2.destroyAllWindows()"
   ]
  },
  {
   "cell_type": "code",
   "execution_count": 53,
   "id": "e4ce5093-e33e-4b05-8d0c-f1ef358f65d1",
   "metadata": {},
   "outputs": [
    {
     "data": {
      "text/plain": [
       "30"
      ]
     },
     "execution_count": 53,
     "metadata": {},
     "output_type": "execute_result"
    }
   ],
   "source": [
    "fps"
   ]
  },
  {
   "cell_type": "code",
   "execution_count": 57,
   "id": "5ef37820-90d3-4d5c-8ee8-194a8a7fe76e",
   "metadata": {},
   "outputs": [
    {
     "name": "stdout",
     "output_type": "stream",
     "text": [
      "30\n"
     ]
    }
   ],
   "source": [
    "import cv2\n",
    "vid = cv2.VideoCapture('editing.mp4')\n",
    "count = 0\n",
    "fps = int(vid.get(cv2.CAP_PROP_FPS))\n",
    "vid1 = cv2.VideoWriter(\"original_fps.mp4\",0, fps, (480, 480))\n",
    "start_sec = 0\n",
    "end_sec = fps * 10\n",
    "while vid.isOpened():\n",
    "    ret, frame = vid.read()\n",
    "    if not ret:\n",
    "        break\n",
    "    if start_sec <= count <= end_sec:\n",
    "        blurred_frame = cv2.medianBlur(frame, 15)\n",
    "        vid1.write(cv2.resize(blurred_frame, (480, 480)))\n",
    "    else:\n",
    "        vid1.write(cv2.resize(frame, (480, 480)))\n",
    "    count += 1\n",
    "print(fps)\n",
    "vid.release()\n",
    "vid1.release()\n",
    "cv2.destroyAllWindows()"
   ]
  },
  {
   "cell_type": "code",
   "execution_count": 58,
   "id": "979301ad-9125-4ef4-96cf-5919880eb826",
   "metadata": {},
   "outputs": [
    {
     "name": "stdout",
     "output_type": "stream",
     "text": [
      "30\n"
     ]
    }
   ],
   "source": [
    "import cv2\n",
    "vid = cv2.VideoCapture('editing.mp4')\n",
    "count = 0\n",
    "fps = int(vid.get(cv2.CAP_PROP_FPS))\n",
    "vid1 = cv2.VideoWriter(\"fps_reduced.mp4\",0, 10, (480, 480))\n",
    "start_sec = 0\n",
    "end_sec = fps * 10\n",
    "while vid.isOpened():\n",
    "    ret, frame = vid.read()\n",
    "    if not ret:\n",
    "        break\n",
    "    if start_sec <= count <= end_sec:\n",
    "        blurred_frame = cv2.medianBlur(frame, 15)\n",
    "        vid1.write(cv2.resize(blurred_frame, (480, 480)))\n",
    "    else:\n",
    "        vid1.write(cv2.resize(frame, (480, 480)))\n",
    "    count += 1\n",
    "print(fps)\n",
    "vid.release()\n",
    "vid1.release()\n",
    "cv2.destroyAllWindows()"
   ]
  },
  {
   "cell_type": "code",
   "execution_count": 8,
   "id": "0eac62ab-4383-4ff9-ac7f-9d20c787c7fb",
   "metadata": {},
   "outputs": [
    {
     "name": "stdout",
     "output_type": "stream",
     "text": [
      "Actual time is 4 seconds\n"
     ]
    },
    {
     "name": "stdin",
     "output_type": "stream",
     "text": [
      "\n",
      "Enter starting second:\t 1\n",
      "\n",
      "Enter ending second:\t 3\n"
     ]
    },
    {
     "name": "stdout",
     "output_type": "stream",
     "text": [
      "\n",
      "Done\n"
     ]
    }
   ],
   "source": [
    "import cv2\n",
    "vid = cv2.VideoCapture('mySkillVideo.avi')\n",
    "count = 0\n",
    "fps = int(vid.get(cv2.CAP_PROP_FPS))\n",
    "print(\"Actual time is 4 seconds\")\n",
    "vid1 = cv2.VideoWriter(\"trim.avi\",0, fps, (480, 480))\n",
    "start_sec =int(input(\"\\nEnter starting second:\\t\"))\n",
    "end_sec =int(input(\"\\nEnter ending second:\\t\"))\n",
    "while vid.isOpened():\n",
    "    ret, frame = vid.read()\n",
    "    if not ret:\n",
    "        break\n",
    "    if start_sec <=count <=end_sec:\n",
    "        vid1.write(frame)\n",
    "    count += 1\n",
    "print(\"\\nDone\")\n",
    "vid.release()\n",
    "vid1.release()\n",
    "cv2.destroyAllWindows()"
   ]
  },
  {
   "cell_type": "code",
   "execution_count": 9,
   "id": "93c75044-6bd5-4478-8d3a-5f1752b99041",
   "metadata": {},
   "outputs": [
    {
     "name": "stdin",
     "output_type": "stream",
     "text": [
      "Enter the Time from where you want to trim 4\n",
      "Enter the Time till where you want to trim 8\n"
     ]
    }
   ],
   "source": [
    "# NOT working because of video\n",
    "\n",
    "import cv2\n",
    "vid=cv2.VideoCapture('editing.mp4')\n",
    "count = 0\n",
    "start=int(input(\"Enter the Time from where you want to trim\"))\n",
    "finall=int(input(\"Enter the Time till where you want to trim\"))\n",
    "vid2=cv2.VideoWriter(\"NewVideo123.mp4\",0,1,(480,480))\n",
    "while vid.isOpened():\n",
    "    ret, frame = vid.read()\n",
    "    if not ret:break\n",
    "    if count >=start and count< finall:\n",
    "        vid2.write(frame)\n",
    "    count += 1\n",
    "vid.release()\n",
    "vid2.release()\n",
    "cv2.destroyAllWindows()\n"
   ]
  },
  {
   "cell_type": "code",
   "execution_count": null,
   "id": "859a8cbf-b854-42f3-b9df-cfb5f43d3cb6",
   "metadata": {},
   "outputs": [],
   "source": []
  }
 ],
 "metadata": {
  "kernelspec": {
   "display_name": "Python 3 (ipykernel)",
   "language": "python",
   "name": "python3"
  },
  "language_info": {
   "codemirror_mode": {
    "name": "ipython",
    "version": 3
   },
   "file_extension": ".py",
   "mimetype": "text/x-python",
   "name": "python",
   "nbconvert_exporter": "python",
   "pygments_lexer": "ipython3",
   "version": "3.11.5"
  }
 },
 "nbformat": 4,
 "nbformat_minor": 5
}
