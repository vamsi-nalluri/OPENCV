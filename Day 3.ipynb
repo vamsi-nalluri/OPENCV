{
 "cells": [
  {
   "cell_type": "code",
   "execution_count": 3,
   "id": "c92a3f08-e8ab-43db-ae10-7131ccab6dc3",
   "metadata": {},
   "outputs": [],
   "source": [
    "import cv2\n",
    "import numpy as np\n",
    "\n",
    "main_image = cv2.imread('cbn_grup2.jpg')\n",
    "\n",
    "template = cv2.imread('cbn_grup.jpeg')\n",
    "result = cv2.matchTemplate(main_image, template, cv2.TM_CCOEFF_NORMED)\n",
    "\n",
    "# Find the location of the matched area\n",
    "min_val, max_val, min_loc, max_loc = cv2.minMaxLoc(result)\n",
    "\n",
    "# Draw a rectangle around the matched area\n",
    "h, w, _ = template.shape\n",
    "cv2.rectangle(main_image, max_loc, (max_loc[0] + w, max_loc[1] + h), (0, 255, 0), 2)\n",
    "\n",
    "# Display the result\n",
    "cv2.imshow('Matching Result', cv2.resize(main_image,(800,800)))\n",
    "cv2.imshow(\"Org Image\",template)\n",
    "cv2.waitKey(0)\n",
    "cv2.destroyAllWindows()"
   ]
  },
  {
   "cell_type": "markdown",
   "id": "ef30ac6a-6628-4728-8068-e5176dd5f07e",
   "metadata": {},
   "source": [
    "Pyramid\n"
   ]
  },
  {
   "cell_type": "code",
   "execution_count": 1,
   "id": "9ef0a547-91da-4070-8b43-ba4cf3a42aa9",
   "metadata": {},
   "outputs": [],
   "source": [
    "import cv2\n",
    "import numpy as np\n",
    "\n",
    "image = cv2.imread('cbn.jpeg')\n",
    "\n",
    "cv2.imshow('Original Image', image)\n",
    "\n",
    "# Construct the Gaussian pyramid\n",
    "gaussian_pyramid = [image]\n",
    "for i in range(5):\n",
    "    image = cv2.pyrDown(image)\n",
    "    gaussian_pyramid.append(image)\n",
    "\n",
    "for i, level_image in enumerate(gaussian_pyramid):\n",
    "    cv2.imshow(f'Gaussian Pyramid Level {i}', level_image)\n"
   ]
  },
  {
   "cell_type": "markdown",
   "id": "be5af628-9598-4ea6-b1df-fe5b7f7253f8",
   "metadata": {},
   "source": [
    "Choose any image and convert it into HSV and thn convert that HSV images into different sizes and save them on the disk with name as image480x480.jpg where the 480,will  be replaced with the size of the images"
   ]
  },
  {
   "cell_type": "code",
   "execution_count": 4,
   "id": "7da4a5e9-b3bc-4e0a-b993-05606ba7e8a3",
   "metadata": {},
   "outputs": [],
   "source": [
    "import cv2\n",
    "# Read the original image\n",
    "image = cv2.imread('mighty.jpg')\n",
    "img2 = cv2.cvtColor(image, cv2.COLOR_BGR2HSV)\n",
    "for i in range(5):\n",
    "    image = cv2.pyrDown(image)\n",
    "    cv2.imshow(f'Gaussian Pyramid Level {i}', image)\n",
    "    cv2.imwrite(f'{image.shape[0]}x{image.shape[1]}.jpg', image)\n",
    "cv2.waitKey(0)\n",
    "cv2.destroyAllWindows()"
   ]
  },
  {
   "cell_type": "markdown",
   "id": "449b1dae-c483-4e28-b2b9-ae53e669b385",
   "metadata": {},
   "source": [
    "choose any image, apply any filter on that and then resize it where the size of all the generated images should be bigger than the original image and save it on the disk with same naming patterns as the goven question"
   ]
  },
  {
   "cell_type": "code",
   "execution_count": 5,
   "id": "ddf74ac4-a4ab-4765-b5e6-172b8e5dfdd6",
   "metadata": {},
   "outputs": [],
   "source": [
    "import cv2\n",
    "# Read the original image\n",
    "image = cv2.imread('download.jpeg')\n",
    "img2 = cv2.cvtColor(image, cv2.COLOR_BGR2HSV)\n",
    "for i in range(5):\n",
    "    image = cv2.pyrUp(image)\n",
    "    cv2.imshow(f'Gaussian Pyramid Level {i}', image)\n",
    "    cv2.imwrite(f'{image.shape[0]}x{image.shape[1]}.jpg', image)\n",
    "cv2.waitKey(0)\n",
    "cv2.destroyAllWindows()"
   ]
  },
  {
   "cell_type": "markdown",
   "id": "2ed356dc-32ff-4d8e-a225-405c9592ae79",
   "metadata": {},
   "source": [
    "On a image check if the value of pixels are less than 169 replace those with Black and the others with white and obtain a final image. With the FInal image, add Blur to it with kernel size of 5x5 but make sure to choose the edge sensitive blurring."
   ]
  },
  {
   "cell_type": "code",
   "execution_count": 3,
   "id": "cb5fd487-07c7-4234-b5da-fb696ab276e4",
   "metadata": {},
   "outputs": [],
   "source": [
    "import cv2\n",
    "import numpy as np\n",
    "image=cv2.imread(\"chick.jpg\")\n",
    "img_hsv = cv2.cvtColor(image, cv2.COLOR_BGR2HSV)\n",
    "\n",
    "lower_threshold = 169\n",
    "_, binary_mask = cv2.threshold(img_hsv[:, :, 2], lower_threshold, 255, cv2.THRESH_BINARY)\n",
    "\n",
    "\n",
    "cv2.imshow(\"Image\",image)\n",
    "\n",
    "cv2.waitKey(0)\n",
    "cv2.destroyAllWindows()"
   ]
  },
  {
   "cell_type": "markdown",
   "id": "d74e4a4c-b7e0-4dc6-bbfb-a992d7fb8ca7",
   "metadata": {},
   "source": [
    "finding circles in numbers"
   ]
  },
  {
   "cell_type": "code",
   "execution_count": 24,
   "id": "4a05f779-0b3f-448e-8c01-756fdb333ba8",
   "metadata": {},
   "outputs": [],
   "source": [
    "import cv2\n",
    "import numpy as np\n",
    "\n",
    "\n",
    "image = cv2.imread('num2.jpg', cv2.IMREAD_GRAYSCALE)\n",
    "img=cv2.imread(\"num2.jpg\")\n",
    "blurred = cv2.GaussianBlur(image, (5, 5), 0)\n",
    "cv2.imshow(\"Test\",cv2.Canny(blurred,40,90))\n",
    "circles = cv2.HoughCircles(blurred, cv2.HOUGH_GRADIENT, dp=1, minDist=50, param1=200, param2=30, minRadius=40, maxRadius=90)\n",
    "if circles is not None:\n",
    "    circles = np.uint16(np.around(circles))\n",
    "    for circle in circles[0, :]:\n",
    "        cv2.circle(image, (circle[0], circle[1]), circle[2], (0, 255, 0), 2)\n",
    "cv2.imshow('Original image', img)\n",
    "cv2.imshow('Hough Circles', image)\n",
    "cv2.waitKey(0)\n",
    "cv2.destroyAllWindows()"
   ]
  },
  {
   "cell_type": "code",
   "execution_count": 35,
   "id": "633b8ac7-e855-4fde-815c-8aabb1143856",
   "metadata": {},
   "outputs": [],
   "source": [
    "import cv2\n",
    "import numpy as np\n",
    "image = cv2.imread('car.jpg')\n",
    "gray = cv2.cvtColor(image, cv2.COLOR_BGR2GRAY)\n",
    "edges = cv2.Canny(gray, 40, 100)\n",
    "cv2.imshow(\"canny edges\",edges)\n",
    "lines = cv2.HoughLinesP(edges, 1, np.pi / 180, 150)\n",
    "for line in lines:\n",
    "    x1,y1,x2,y2 = line[0]\n",
    "    cv2.line(image, (x1, y1), (x2, y2), (0, 0, 255), 3)\n",
    "\n",
    "cv2.imshow(str((lines)), image)\n",
    "cv2.waitKey(0)\n",
    "cv2.destroyAllWindows()"
   ]
  },
  {
   "cell_type": "markdown",
   "id": "444f3f7c-e530-4f6f-b63b-df261517bc40",
   "metadata": {},
   "source": [
    "1)Preprocessing\n",
    "2)Apply Thresholding\n",
    "3)Morphological Transformations (DeNoising)\n",
    "/ Removing Noise | Dilate/Erode\n",
    "\n",
    "4)Creating a Marker Image\n",
    "5)Apply Watershed Algo\n",
    "6)Display Segemented\n",
    "#Reason to Use Watershed \n",
    "#To get a segemented Image Output"
   ]
  },
  {
   "cell_type": "code",
   "execution_count": 42,
   "id": "0f59e44f-7691-44f6-95db-140947aef566",
   "metadata": {},
   "outputs": [],
   "source": [
    "import cv2\n",
    "import numpy as np\n",
    "\n",
    "image = cv2.imread('cbn_grup2.jpg')\n",
    "gray_image = cv2.cvtColor(image, cv2.COLOR_BGR2GRAY)\n",
    "\n",
    "_, thresh = cv2.threshold(gray_image, 0, 255, cv2.THRESH_BINARY_INV + cv2.THRESH_OTSU)\n",
    "# Perform morphological operations to clean the image\n",
    "kernel = np.ones((3, 3), np.uint8)\n",
    "opening = cv2.morphologyEx(thresh, cv2.MORPH_OPEN, kernel, iterations=2)\n",
    "\n",
    "# Identify the background area\n",
    "sure_bg = cv2.dilate(opening, kernel, iterations=3)\n",
    "\n",
    "# Perform distance transform\n",
    "dist_transform = cv2.distanceTransform(opening, cv2.DIST_L2, 5)\n",
    "\n",
    "# Threshold the distance transform to obtain sure foreground\n",
    "_, sure_fg = cv2.threshold(dist_transform, 0.7 * dist_transform.max(), 255, 0)\n",
    "\n",
    "# Subtract sure foreground from sure background to obtain unknown region\n",
    "sure_fg = np.uint8(sure_fg)\n",
    "unknown = cv2.subtract(sure_bg, sure_fg)\n",
    "\n",
    "# Marker labeling for watershed algorithm\n",
    "_, markers = cv2.connectedComponents(sure_fg)\n",
    "markers = markers + 1\n",
    "markers[unknown == 255] = 0\n",
    "\n",
    "# Apply watershed algorithm\n",
    "cv2.watershed(image, markers)\n",
    "image[markers == -1] = [0, 0, 255]  # Mark watershed boundaries in red\n",
    "\n",
    "cv2.imshow('Segmented Image', image)\n",
    "cv2.waitKey(0)\n",
    "cv2.destroyAllWindows()\n"
   ]
  },
  {
   "cell_type": "code",
   "execution_count": 47,
   "id": "d112a48a-e01e-4991-834b-cf99bda84c0a",
   "metadata": {},
   "outputs": [],
   "source": [
    "#GRABCUT MODEL\n",
    "import cv2\n",
    "import numpy as np\n",
    "\n",
    "image = cv2.imread('cbn_grup2.jpg')\n",
    "mask = np.zeros(image.shape[:2], np.uint8)\n",
    "# Define the rectangle for initial GrabCut algorithm\n",
    "rect = (50, 50, 450, 290)\n",
    "# Initialize the foreground and background models\n",
    "bgd_model = np.zeros((1, 65), np.float64)\n",
    "fgd_model = np.zeros((1, 65), np.float64)\n",
    "# Apply GrabCut algorithm\n",
    "#GrabCut is Based on GraphCut Model along with Gaussian Mixture Model\n",
    "cv2.grabCut(image, mask, rect, bgd_model, fgd_model, 5, cv2.GC_INIT_WITH_RECT)\n",
    "# Modify the mask to create a binary mask for foreground and background\n",
    "mask2 = np.where((mask == 2) | (mask == 0), 0, 1).astype('uint8')\n",
    "# Multiply the original image with the binary mask to extract the foreground\n",
    "result = image * mask2[:, :, np.newaxis]\n",
    "cv2.imshow('Original Image', image)\n",
    "cv2.imshow('Foreground Extraction', result)\n",
    "cv2.waitKey(0)\n",
    "cv2.destroyAllWindows()"
   ]
  },
  {
   "cell_type": "markdown",
   "id": "0d55400a-6e2d-401e-90c3-02d3a18f6bef",
   "metadata": {},
   "source": [
    "Harris Corner Detection\n",
    "• Shi-Tomasi Corner Detector & Good Features\n",
    "to Track\n",
    "• Introduction to SIFT (Scale-Invariant Feature\n",
    "Transform)\n",
    "• Introduction to SURF (Speeded-Up Robust\n",
    "Features)\n",
    "• FAST Algorithm for Corner Detection\n",
    "• BRIEF (Binary Robust Independent Elementary\n",
    "Features)\n",
    "• ORB (Oriented FAST and Rotated BRIEF)\n",
    "• Feature Matching\n",
    "16"
   ]
  },
  {
   "cell_type": "code",
   "execution_count": null,
   "id": "317eea5c-c361-4369-b926-2fd391ead33d",
   "metadata": {},
   "outputs": [],
   "source": []
  },
  {
   "cell_type": "code",
   "execution_count": 2,
   "id": "f72411a8-a98d-4844-970e-7799ecc17cdd",
   "metadata": {},
   "outputs": [],
   "source": [
    "import cv2\n",
    "import numpy as np\n",
    "\n",
    "image = cv2.imread('logo.png')\n",
    "\n",
    "gaussian_pyramid = [image]\n",
    "for i in range(6):\n",
    "    image = cv2.pyrDown(image)\n",
    "    gaussian_pyramid.append(image)\n",
    "\n",
    "for i, level_image in enumerate(gaussian_pyramid):\n",
    "    cv2.imshow(f'Gaussian Pyramid Level {i}', level_image)\n",
    "# Construct the Laplacian pyramid from the Gaussian pyramid\n",
    "laplacian_pyramid = [gaussian_pyramid[5]]\n",
    "for i in range(5, 0, -1):\n",
    "    expanded = cv2.pyrUp(gaussian_pyramid[i])\n",
    "    laplacian = cv2.subtract(cv2.resize(gaussian_pyramid[i],(480,480)),cv2.resize(expanded,(480,480)))\n",
    "    laplacian_pyramid.append(laplacian)\n",
    "\n",
    "for i, level_image in enumerate(laplacian_pyramid):\n",
    "    cv2.imshow(f'Laplacian Pyramid Level {i}', level_image)\n",
    "\n",
    "cv2.waitKey(0)\n",
    "cv2.destroyAllWindows()"
   ]
  },
  {
   "cell_type": "code",
   "execution_count": null,
   "id": "5bb50ce1-5ceb-4e31-b3a1-5ebb2f5b1de9",
   "metadata": {},
   "outputs": [],
   "source": []
  }
 ],
 "metadata": {
  "kernelspec": {
   "display_name": "Python 3 (ipykernel)",
   "language": "python",
   "name": "python3"
  },
  "language_info": {
   "codemirror_mode": {
    "name": "ipython",
    "version": 3
   },
   "file_extension": ".py",
   "mimetype": "text/x-python",
   "name": "python",
   "nbconvert_exporter": "python",
   "pygments_lexer": "ipython3",
   "version": "3.11.5"
  }
 },
 "nbformat": 4,
 "nbformat_minor": 5
}
