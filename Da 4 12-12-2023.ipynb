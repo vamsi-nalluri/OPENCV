{
 "cells": [
  {
   "cell_type": "code",
   "execution_count": 4,
   "id": "0e153c3b-ec06-4e95-b98d-51dfaffe00e2",
   "metadata": {},
   "outputs": [],
   "source": [
    "import cv2\n",
    "import numpy as np\n",
    "\n",
    "img1 = cv2.imread('full.jpg', cv2.IMREAD_GRAYSCALE)\n",
    "img2 = cv2.imread('logo.png', cv2.IMREAD_GRAYSCALE)\n",
    "\n",
    "#Create ORB detector\n",
    "orb = cv2.ORB_create()\n",
    "#get keypoints and descriptors\n",
    "keypoints1, descriptors1 = orb.detectAndCompute(img1, None)\n",
    "keypoints2, descriptors2 = orb.detectAndCompute(img2, None)\n",
    "\n",
    "# Create BFMatcher (Brute-Force Matcher) object\n",
    "bf = cv2.BFMatcher(cv2.NORM_HAMMING, crossCheck=True)\n",
    "matches = bf.match(descriptors1, descriptors2)\n",
    "# Sort them based on distance\n",
    "matches = sorted(matches, key=lambda x: x.distance)\n",
    "img_matches = cv2.drawMatches(img1, keypoints1, img2, keypoints2, matches[:10], None, flags=cv2.DrawMatchesFlags_NOT_DRAW_SINGLE_POINTS)\n",
    "cv2.imshow('Matches', img_matches)\n",
    "\n",
    "# Extract matched keypoints\n",
    "src_pts = np.float32([keypoints1[m.queryIdx].pt for m in matches]).reshape(-1, 1, 2)\n",
    "dst_pts = np.float32([keypoints2[m.trainIdx].pt for m in matches]).reshape(-1, 1, 2)\n",
    "homography, _ = cv2.findHomography(src_pts, dst_pts, cv2.RANSAC, 5.0)\n",
    "\n",
    "# Apply Homography to the template image corners to find the object\n",
    "h, w = img1.shape\n",
    "corners = np.float32([[0, 0], [0, h - 1], [w - 1, h - 1], [w - 1, 0]]).reshape(-1, 1, 2)\n",
    "transformed_corners = cv2.perspectiveTransform(corners, homography)\n",
    "img2_rectangle = cv2.polylines(img2, [np.int32(transformed_corners)], True, 255, 3, cv2.LINE_AA)\n",
    "\n",
    "cv2.imshow('Object Detection', img2_rectangle)\n",
    "cv2.waitKey(0)\n",
    "cv2.destroyAllWindows()\n"
   ]
  },
  {
   "cell_type": "code",
   "execution_count": 8,
   "id": "35530056-555a-4c7c-b03b-eb43a38de869",
   "metadata": {},
   "outputs": [],
   "source": [
    "import cv2\n",
    "image = cv2.imread('download.jpeg', cv2.IMREAD_GRAYSCALE)\n",
    "# Create a SIFT object\n",
    "sift = cv2.SIFT_create()\n",
    "# Detect keypoints and compute descriptors\n",
    "keypoints, descriptors = sift.detectAndCompute(image, None)\n",
    "# Draw keypoints on the image\n",
    "image_with_keypoints = cv2.drawKeypoints(image, keypoints, None)\n",
    "cv2.imshow('Image with SIFT Keypoints', image_with_keypoints)\n",
    "cv2.waitKey(0)\n",
    "cv2.destroyAllWindows()\n"
   ]
  },
  {
   "cell_type": "code",
   "execution_count": 14,
   "id": "3c1fe18d-19d0-47f4-9fc5-992edd1a935c",
   "metadata": {},
   "outputs": [],
   "source": [
    "import cv2\n",
    "import numpy as np\n",
    "img=cv2.imread('logo.png',cv2.IMREAD_GRAYSCALE)\n",
    "flt=np.float32(img)\n",
    "\n",
    "corners=cv2.cornerHarris(flt,2,3,0.05)\n",
    "corners=cv2.dilate(corners,None)\n",
    "img[corners > 0.01 * corners.max()]=[255]\n",
    "cv2.imshow(\"Finakl\",img)\n",
    "cv2.waitKey(0)\n",
    "cv2.destroyAllWindows()"
   ]
  },
  {
   "cell_type": "code",
   "execution_count": 1,
   "id": "e2856822-f343-47de-87d5-2e52b7d2b825",
   "metadata": {},
   "outputs": [],
   "source": [
    "import cv2\n",
    "import numpy as np\n",
    "\n",
    "image = cv2.imread('logo.png', cv2.IMREAD_GRAYSCALE)\n",
    "# Detect Shi-Tomasi corners\n",
    "corners = cv2.goodFeaturesToTrack(image, maxCorners=25, qualityLevel=0.01, minDistance=10)\n",
    "# Convert corners to integers\n",
    "corners = np.intp(corners)\n",
    "# Draw circles around the detected corners\n",
    "image_with_corners = image.copy()\n",
    "for corner in corners:\n",
    "    x, y = corner.ravel()\n",
    "    cv2.circle(image_with_corners, (x, y), 6, 18, -1)\n",
    "\n",
    "cv2.imshow('Original Image', image)\n",
    "cv2.imshow('Image with Shi-Tomasi Corners', image_with_corners)\n",
    "cv2.waitKey(0)\n",
    "cv2.destroyAllWindows()\n"
   ]
  },
  {
   "cell_type": "code",
   "execution_count": 1,
   "id": "32c3c76c-2c7f-410d-810d-55a28caf897d",
   "metadata": {},
   "outputs": [
    {
     "ename": "AttributeError",
     "evalue": "module 'cv2' has no attribute 'xfeatures2d'",
     "output_type": "error",
     "traceback": [
      "\u001b[1;31m---------------------------------------------------------------------------\u001b[0m",
      "\u001b[1;31mAttributeError\u001b[0m                            Traceback (most recent call last)",
      "Cell \u001b[1;32mIn[1], line 5\u001b[0m\n\u001b[0;32m      3\u001b[0m image \u001b[38;5;241m=\u001b[39m cv2\u001b[38;5;241m.\u001b[39mimread(\u001b[38;5;124m'\u001b[39m\u001b[38;5;124m3.jpeg\u001b[39m\u001b[38;5;124m'\u001b[39m, cv2\u001b[38;5;241m.\u001b[39mIMREAD_GRAYSCALE)\n\u001b[0;32m      4\u001b[0m \u001b[38;5;66;03m# Create a SURF object\u001b[39;00m\n\u001b[1;32m----> 5\u001b[0m surf \u001b[38;5;241m=\u001b[39m \u001b[43mcv2\u001b[49m\u001b[38;5;241;43m.\u001b[39;49m\u001b[43mxfeatures2d\u001b[49m\u001b[38;5;241m.\u001b[39mSURF_create()\n\u001b[0;32m      6\u001b[0m \u001b[38;5;66;03m# Detect keypoints and compute descriptors\u001b[39;00m\n\u001b[0;32m      7\u001b[0m keypoints, descriptors \u001b[38;5;241m=\u001b[39m surf\u001b[38;5;241m.\u001b[39mdetectAndCompute(image, \u001b[38;5;28;01mNone\u001b[39;00m)\n",
      "\u001b[1;31mAttributeError\u001b[0m: module 'cv2' has no attribute 'xfeatures2d'"
     ]
    }
   ],
   "source": [
    "import cv2\n",
    "\n",
    "image = cv2.imread('3.jpeg', cv2.IMREAD_GRAYSCALE)\n",
    "# Create a SURF object\n",
    "surf = cv2.xfeatures2d.SURF_create()\n",
    "# Detect keypoints and compute descriptors\n",
    "keypoints, descriptors = surf.detectAndCompute(image, None)\n",
    "# Draw keypoints on the image\n",
    "image_with_keypoints = cv2.drawKeypoints(image, keypoints, None)\n",
    "cv2.imshow('Image with SURF Keypoints', image_with_keypoints)\n",
    "cv2.waitKey(0)\n",
    "cv2.destroyAllWindows()"
   ]
  },
  {
   "cell_type": "code",
   "execution_count": null,
   "id": "0e3cc572-bf15-440b-a603-3f09f6a99920",
   "metadata": {},
   "outputs": [],
   "source": [
    "\n"
   ]
  },
  {
   "cell_type": "code",
   "execution_count": null,
   "id": "6bd010ad-9785-458a-ac6f-14f20a5e039e",
   "metadata": {},
   "outputs": [],
   "source": [
    "import cv2\n",
    "vid=cv2.VideoCapture(0)\n",
    "while vid.isOpened():\n",
    "    _,frame=vid.read()\n",
    "    frame=cv2.resize(frame,(640,640))\n",
    "    cv2.imshow(\"Camera Capture\",frame)\n",
    "cv2.waitKey(0)\n",
    "cv2.destroyAllWindows()\n"
   ]
  },
  {
   "cell_type": "code",
   "execution_count": 1,
   "id": "3d75b497-6035-43a2-9fb0-d98448166602",
   "metadata": {},
   "outputs": [
    {
     "ename": "error",
     "evalue": "OpenCV(4.8.1) D:\\a\\opencv-python\\opencv-python\\opencv\\modules\\imgproc\\src\\resize.cpp:4062: error: (-215:Assertion failed) !ssize.empty() in function 'cv::resize'\n",
     "output_type": "error",
     "traceback": [
      "\u001b[1;31m---------------------------------------------------------------------------\u001b[0m",
      "\u001b[1;31merror\u001b[0m                                     Traceback (most recent call last)",
      "Cell \u001b[1;32mIn[1], line 5\u001b[0m\n\u001b[0;32m      3\u001b[0m \u001b[38;5;28;01mwhile\u001b[39;00m vid\u001b[38;5;241m.\u001b[39misOpened():\n\u001b[0;32m      4\u001b[0m     _,frame\u001b[38;5;241m=\u001b[39mvid\u001b[38;5;241m.\u001b[39mread()\n\u001b[1;32m----> 5\u001b[0m     frame\u001b[38;5;241m=\u001b[39m\u001b[43mcv2\u001b[49m\u001b[38;5;241;43m.\u001b[39;49m\u001b[43mresize\u001b[49m\u001b[43m(\u001b[49m\u001b[43mframe\u001b[49m\u001b[43m,\u001b[49m\u001b[43m(\u001b[49m\u001b[38;5;241;43m640\u001b[39;49m\u001b[43m,\u001b[49m\u001b[38;5;241;43m640\u001b[39;49m\u001b[43m)\u001b[49m\u001b[43m,\u001b[49m\u001b[43minterpolation\u001b[49m\u001b[38;5;241;43m=\u001b[39;49m\u001b[43mcv2\u001b[49m\u001b[38;5;241;43m.\u001b[39;49m\u001b[43mINTER_CUBIC\u001b[49m\u001b[43m)\u001b[49m\n\u001b[0;32m      6\u001b[0m     cv2\u001b[38;5;241m.\u001b[39mimshow(\u001b[38;5;124m\"\u001b[39m\u001b[38;5;124mCamera Capture\u001b[39m\u001b[38;5;124m\"\u001b[39m,frame)\n\u001b[0;32m      7\u001b[0m cv2\u001b[38;5;241m.\u001b[39mwaitKey(\u001b[38;5;241m0\u001b[39m)\n",
      "\u001b[1;31merror\u001b[0m: OpenCV(4.8.1) D:\\a\\opencv-python\\opencv-python\\opencv\\modules\\imgproc\\src\\resize.cpp:4062: error: (-215:Assertion failed) !ssize.empty() in function 'cv::resize'\n"
     ]
    }
   ],
   "source": [
    "import cv2\n",
    "vid=cv2.VideoCapture('tom.mp4')\n",
    "while vid.isOpened():\n",
    "    _,frame=vid.read()\n",
    "    frame=cv2.resize(frame,(640,640),interpolation=cv2.INTER_CUBIC)\n",
    "    cv2.imshow(\"Camera Capture\",frame)\n",
    "cv2.waitKey(0)\n",
    "cv2.destroyAllWindows()\n"
   ]
  },
  {
   "cell_type": "code",
   "execution_count": null,
   "id": "93accf55-01d0-4c44-8504-6a6962748232",
   "metadata": {},
   "outputs": [],
   "source": []
  },
  {
   "cell_type": "code",
   "execution_count": null,
   "id": "c2acf698-d6cb-4743-9726-f3800a368034",
   "metadata": {},
   "outputs": [],
   "source": []
  },
  {
   "cell_type": "code",
   "execution_count": 2,
   "id": "a1ce9419-cb80-428a-8f42-45096ac59614",
   "metadata": {},
   "outputs": [],
   "source": [
    "import cv2,os\n",
    "images=[img for img in os.listdir(os.getcwd()) if img.endswith(\".png\")]\n",
    "\n",
    "vid=cv2.VideoWriter(\"myVideo.avi\",0,1,(480,480))\n",
    "for f in images:\n",
    "    vid.write(cv2.resize(cv2.imread(os.path.join(os.getcwd(),f)),(480,480)))\n",
    "cv2.destroyAllWindows()\n",
    "vid.release()\n"
   ]
  },
  {
   "cell_type": "code",
   "execution_count": 10,
   "id": "14d77737-111e-47a8-8e63-72177457f7d5",
   "metadata": {},
   "outputs": [],
   "source": [
    " import cv2\n",
    "import numpy as np\n",
    "\n",
    "image = cv2.imread('mighty.jpg')\n",
    "\n",
    "blue_overlay = np.zeros_like(image)\n",
    "blue_overlay1 = np.zeros_like(image)\n",
    "blue_overlay2 = np.zeros_like(image)\n",
    "blue_overlay3 = np.zeros_like(image)\n",
    "\n",
    "blue_overlay[:, :] = [25, 10, 255]  # Blue (BGR format)\n",
    "blue_overlay1[:, :] = [200, 100, 25]\n",
    "blue_overlay2[:, :] = [50, 50, 55]\n",
    "blue_overlay3[:, :] = [95, 10, 85]\n",
    "\n",
    "alpha = 0.5  # 0.0: fully transparent, 1.0: fully opaque\n",
    "\n",
    "# Blend the image with the blue overlay\n",
    "result_image = cv2.addWeighted(image, 1 - alpha, blue_overlay, alpha, 0)\n",
    "result_image1 = cv2.addWeighted(image, 0.2,blue_overlay1 , 0.7, 0)\n",
    "result_image2 = cv2.addWeighted(image, 1 - alpha, blue_overlay2, 0.1, 1)\n",
    "result_image3= cv2.addWeighted(image, 1 - alpha,blue_overlay3 , 0.9, 0)\n",
    "\n",
    "images=[result_image,result_image1,result_image2,result_image3]\n",
    "\n",
    "vid=cv2.VideoWriter(\"mySkillVideo.avi\",0,1,(480,480))\n",
    "for f in images:\n",
    "    vid.write(cv2.resize(f,(480,480)))\n",
    "\n",
    "vid.release()\n",
    "cv2.destroyAllWindows()"
   ]
  },
  {
   "cell_type": "code",
   "execution_count": null,
   "id": "b7dedb21-9dd7-4dc0-bbc2-927d56d1e187",
   "metadata": {},
   "outputs": [],
   "source": []
  },
  {
   "cell_type": "code",
   "execution_count": 20,
   "id": "47a3dc53-84f8-46f1-b849-b5ebfe22637e",
   "metadata": {},
   "outputs": [
    {
     "ename": "error",
     "evalue": "OpenCV(4.8.1) D:\\a\\opencv-python\\opencv-python\\opencv\\modules\\core\\src\\arithm.cpp:650: error: (-209:Sizes of input arguments do not match) The operation is neither 'array op array' (where arrays have the same size and the same number of channels), nor 'array op scalar', nor 'scalar op array' in function 'cv::arithm_op'\n",
     "output_type": "error",
     "traceback": [
      "\u001b[1;31m---------------------------------------------------------------------------\u001b[0m",
      "\u001b[1;31merror\u001b[0m                                     Traceback (most recent call last)",
      "Cell \u001b[1;32mIn[20], line 15\u001b[0m\n\u001b[0;32m     13\u001b[0m f \u001b[38;5;241m=\u001b[39m cv2\u001b[38;5;241m.\u001b[39mimread(image_path)\n\u001b[0;32m     14\u001b[0m \u001b[38;5;28;01mif\u001b[39;00m i\u001b[38;5;241m%\u001b[39m\u001b[38;5;241m2\u001b[39m\u001b[38;5;241m==\u001b[39m\u001b[38;5;241m0\u001b[39m:\n\u001b[1;32m---> 15\u001b[0m     f\u001b[38;5;241m=\u001b[39m\u001b[43mcv2\u001b[49m\u001b[38;5;241;43m.\u001b[39;49m\u001b[43maddWeighted\u001b[49m\u001b[43m(\u001b[49m\u001b[43mf\u001b[49m\u001b[43m,\u001b[49m\u001b[38;5;241;43m0.8\u001b[39;49m\u001b[43m,\u001b[49m\u001b[43mblue_overlay\u001b[49m\u001b[43m,\u001b[49m\u001b[38;5;241;43m0.7\u001b[39;49m\u001b[43m,\u001b[49m\u001b[38;5;241;43m1\u001b[39;49m\u001b[43m)\u001b[49m\n\u001b[0;32m     16\u001b[0m \u001b[38;5;28;01melse\u001b[39;00m:\n\u001b[0;32m     17\u001b[0m     f\u001b[38;5;241m=\u001b[39mcv2\u001b[38;5;241m.\u001b[39maddWeighted(f,\u001b[38;5;241m0.4\u001b[39m,blue_overlay1,\u001b[38;5;241m0.5\u001b[39m,\u001b[38;5;241m0\u001b[39m)\n",
      "\u001b[1;31merror\u001b[0m: OpenCV(4.8.1) D:\\a\\opencv-python\\opencv-python\\opencv\\modules\\core\\src\\arithm.cpp:650: error: (-209:Sizes of input arguments do not match) The operation is neither 'array op array' (where arrays have the same size and the same number of channels), nor 'array op scalar', nor 'scalar op array' in function 'cv::arithm_op'\n"
     ]
    }
   ],
   "source": [
    "import cv2,os\n",
    "images=[img for img in os.listdir(os.getcwd()) if img.endswith(\".jpeg\")]\n",
    "\n",
    "vid=cv2.VideoWriter(\"myJPEGVideo.avi\",0,1,(480,480))\n",
    "\n",
    "blue_overlay = np.zeros_like(image)\n",
    "blue_overlay1 = np.zeros_like(image)\n",
    "\n",
    "blue_overlay[:, :] = [25, 10, 255]\n",
    "blue_overlay1[:, :] = [255, 0, 15]\n",
    "for i,f in enumerate(images):\n",
    "    image_path = os.path.join(os.getcwd(), f)\n",
    "    f = cv2.imread(image_path)\n",
    "    if i%2==0:\n",
    "        f=cv2.addWeighted(f,0.8,blue_overlay,0.7,1)\n",
    "    else:\n",
    "        f=cv2.addWeighted(f,0.4,blue_overlay1,0.5,0)\n",
    "    vid.write(cv2.resize(f,(480,480)))\n",
    "cv2.destroyAllWindows()\n",
    "vid.release()\n"
   ]
  },
  {
   "cell_type": "code",
   "execution_count": 21,
   "id": "1ae02f33-b9e9-48c7-b0bb-c060ed3c7e62",
   "metadata": {},
   "outputs": [
    {
     "ename": "TypeError",
     "evalue": "join() argument must be str, bytes, or os.PathLike object, not 'ndarray'",
     "output_type": "error",
     "traceback": [
      "\u001b[1;31m---------------------------------------------------------------------------\u001b[0m",
      "\u001b[1;31mTypeError\u001b[0m                                 Traceback (most recent call last)",
      "Cell \u001b[1;32mIn[21], line 10\u001b[0m\n\u001b[0;32m      7\u001b[0m \u001b[38;5;28;01mfor\u001b[39;00m f \u001b[38;5;129;01min\u001b[39;00m images:\n\u001b[0;32m      8\u001b[0m     gaussian_blur_image \u001b[38;5;241m=\u001b[39m cv2\u001b[38;5;241m.\u001b[39mGaussianBlur(image, kernel_size, \u001b[38;5;241m0\u001b[39m)\n\u001b[1;32m---> 10\u001b[0m     vid\u001b[38;5;241m.\u001b[39mwrite(cv2\u001b[38;5;241m.\u001b[39mresize(cv2\u001b[38;5;241m.\u001b[39mimread(\u001b[43mos\u001b[49m\u001b[38;5;241;43m.\u001b[39;49m\u001b[43mpath\u001b[49m\u001b[38;5;241;43m.\u001b[39;49m\u001b[43mjoin\u001b[49m\u001b[43m(\u001b[49m\u001b[43mos\u001b[49m\u001b[38;5;241;43m.\u001b[39;49m\u001b[43mgetcwd\u001b[49m\u001b[43m(\u001b[49m\u001b[43m)\u001b[49m\u001b[43m,\u001b[49m\u001b[43mgaussian_blur_image\u001b[49m\u001b[43m)\u001b[49m),(\u001b[38;5;241m480\u001b[39m,\u001b[38;5;241m480\u001b[39m)))\n\u001b[0;32m     11\u001b[0m cv2\u001b[38;5;241m.\u001b[39mdestroyAllWindows()\n\u001b[0;32m     12\u001b[0m vid\u001b[38;5;241m.\u001b[39mrelease()\n",
      "File \u001b[1;32m<frozen ntpath>:147\u001b[0m, in \u001b[0;36mjoin\u001b[1;34m(path, *paths)\u001b[0m\n",
      "File \u001b[1;32m<frozen genericpath>:152\u001b[0m, in \u001b[0;36m_check_arg_types\u001b[1;34m(funcname, *args)\u001b[0m\n",
      "\u001b[1;31mTypeError\u001b[0m: join() argument must be str, bytes, or os.PathLike object, not 'ndarray'"
     ]
    }
   ],
   "source": [
    "import cv2,os\n",
    "images=[img for img in os.listdir(os.getcwd()) if img.endswith(\".png\")]\n",
    "\n",
    "kernel_size = (25, 25)\n",
    "\n",
    "vid=cv2.VideoWriter(\"myVideo.avi\",0,1,(480,480))\n",
    "for f in images:\n",
    "    gaussian_blur_image = cv2.GaussianBlur(image, kernel_size, 0)\n",
    "\n",
    "    vid.write(cv2.resize(cv2.imread(os.path.join(os.getcwd(),gaussian_blur_image)),(480,480)))\n",
    "cv2.destroyAllWindows()\n",
    "vid.release()\n"
   ]
  },
  {
   "cell_type": "code",
   "execution_count": null,
   "id": "7ca29b84-880e-4b16-a0ed-6f6b5adb1c1e",
   "metadata": {},
   "outputs": [],
   "source": []
  }
 ],
 "metadata": {
  "kernelspec": {
   "display_name": "Python 3 (ipykernel)",
   "language": "python",
   "name": "python3"
  },
  "language_info": {
   "codemirror_mode": {
    "name": "ipython",
    "version": 3
   },
   "file_extension": ".py",
   "mimetype": "text/x-python",
   "name": "python",
   "nbconvert_exporter": "python",
   "pygments_lexer": "ipython3",
   "version": "3.11.5"
  }
 },
 "nbformat": 4,
 "nbformat_minor": 5
}
