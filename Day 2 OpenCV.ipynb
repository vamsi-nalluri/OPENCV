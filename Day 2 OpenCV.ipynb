{
 "cells": [
  {
   "cell_type": "code",
   "execution_count": 9,
   "id": "bb83fb85-3ca8-4cdf-a627-dc69c5d09f7a",
   "metadata": {},
   "outputs": [],
   "source": [
    "import cv2\n",
    "import numpy as np\n",
    "\n",
    "image = cv2.imread('mighty.jpg')\n",
    "\n",
    "blue_overlay = np.zeros_like(image)\n",
    "blue_overlay[:, :] = [255, 0, 0]  # Blue (BGR format)\n",
    "\n",
    "alpha = 0.5  # 0.0: fully transparent, 1.0: fully opaque\n",
    "\n",
    "# Blend the image with the blue overlay\n",
    "result_image = cv2.addWeighted(image, 1 - alpha, blue_overlay, alpha, 0)\n",
    "\n",
    "cv2.imshow('Original Image', image)\n",
    "cv2.imshow('Blue Image', result_image)\n",
    "cv2.waitKey(0)\n",
    "cv2.destroyAllWindows()"
   ]
  },
  {
   "cell_type": "code",
   "execution_count": 1,
   "id": "1f119f0c-2bf1-453e-adcc-585b209b12ec",
   "metadata": {},
   "outputs": [],
   "source": [
    "import cv2\n",
    "import numpy as np\n",
    "\n",
    "image = cv2.imread('mighty.jpg')\n",
    "\n",
    "blue_overlay = np.zeros_like(image)\n",
    "blue_overlay1 = np.zeros_like(image)\n",
    "blue_overlay2 = np.zeros_like(image)\n",
    "blue_overlay3 = np.zeros_like(image)\n",
    "blue_overlay[:, :] = [25, 10, 255]  # Blue (BGR format)\n",
    "blue_overlay1[:, :] = [200, 100, 25]\n",
    "blue_overlay2[:, :] = [50, 50, 55]\n",
    "blue_overlay3[:, :] = [95, 10, 85]\n",
    "alpha = 0.5  # 0.0: fully transparent, 1.0: fully opaque\n",
    "\n",
    "# Blend the image with the blue overlay\n",
    "result_image = cv2.addWeighted(image, 1 - alpha, blue_overlay, alpha, 0)\n",
    "result_image1 = cv2.addWeighted(image, 0.2,blue_overlay1 , 0.7, 0)\n",
    "result_image2 = cv2.addWeighted(image, 1 - alpha, blue_overlay2, 0.1, 1)\n",
    "result_image3= cv2.addWeighted(image, 1 - alpha,blue_overlay3 , 0.9, 0)\n",
    "cv2.imshow('Original Image', image)\n",
    "cv2.imshow('Blue Image', result_imagea\n",
    "cv2.imshow(' 2 Image', result_image1)\n",
    "cv2.imshow('3 Image', result_image2)\n",
    "cv2.imshow('4 Image', result_image3)\n",
    "cv2.waitKey(0)\n",
    "cv2.destroyAllWindows()"
   ]
  },
  {
   "cell_type": "code",
   "execution_count": 1,
   "id": "aabf9c5b-e474-4ff3-8a02-607bc21d162e",
   "metadata": {},
   "outputs": [],
   "source": [
    "import cv2\n",
    "import numpy as np\n",
    "\n",
    "image = cv2.imread('download.jpeg')\n",
    "\n",
    "cv2.imshow('Original Image', image)\n",
    "\n",
    "# Average Blurring: Replacing each pixel value with the average value of its neighborhood\n",
    "kernel_size = (5, 5)  # Kernel size for the average blur filter\n",
    "average_blur_image = cv2.blur(image, kernel_size)\n",
    "\n",
    "cv2.imshow('Average Blurred Image', average_blur_image)\n",
    "cv2.waitKey(0)\n",
    "cv2.destroyAllWindows()\n"
   ]
  },
  {
   "cell_type": "code",
   "execution_count": 2,
   "id": "fd3fc796-52ec-40f7-8a0f-f37ec7337553",
   "metadata": {},
   "outputs": [],
   "source": [
    "import cv2\n",
    "import numpy as np\n",
    "\n",
    "image = cv2.imread('download.jpeg')\n",
    "\n",
    "#cv2.imshow('Original Image', image)\n",
    "\n",
    "# Average Blurring: Replacing each pixel value with the average value of its neighborhood\n",
    "kernel_size = (25, 25)  # Kernel size for the average blur filter\n",
    "average_blur_image = cv2.blur(image, kernel_size)\n",
    "gaussian_blur_image = cv2.GaussianBlur(image, kernel_size, 0)\n",
    "\n",
    "cv2.imshow('Gaussian Blurred Image', gaussian_blur_image)\n",
    "cv2.imshow('Average Blurred Image', average_blur_image)\n",
    "cv2.waitKey(0)\n",
    "cv2.destroyAllWindows()"
   ]
  },
  {
   "cell_type": "code",
   "execution_count": 1,
   "id": "fe4e1235-c116-4281-af60-2d5e02b67198",
   "metadata": {},
   "outputs": [],
   "source": [
    "import cv2\n",
    "import numpy as np\n",
    "\n",
    "image = cv2.imread('download.jpeg')\n",
    "\n",
    "#cv2.imshow('Original Image', image)\n",
    "\n",
    "# Average Blurring: Replacing each pixel value with the average value of its neighborhood\n",
    "kernel_size = (25, 25)  # Kernel size for the average blur filter\n",
    "average_blur_image = cv2.blur(image, kernel_size)\n",
    "gaussian_blur_image = cv2.GaussianBlur(image, kernel_size, 0)\n",
    "median_blur_image = cv2.medianBlur(image, 25)\n",
    "\n",
    "cv2.imshow('Gaussian Blurred Image', gaussian_blur_image)\n",
    "cv2.imshow('Average Blurred Image', average_blur_image)\n",
    "cv2.imshow('Median Blurred Image', median_blur_image)\n",
    "cv2.waitKey(0)\n",
    "cv2.destroyAllWindows()"
   ]
  },
  {
   "cell_type": "code",
   "execution_count": 7,
   "id": "dc490fb2-111b-437b-905a-6199a054210f",
   "metadata": {},
   "outputs": [],
   "source": [
    "import cv2\n",
    "import numpy as np\n",
    "\n",
    "image = cv2.imread('download.jpeg')\n",
    "\n",
    "blue_overlay = np.zeros_like(image)\n",
    "blue_overlay1 = np.zeros_like(image)\n",
    "blue_overlay[:, :] = [200, 0, 0]  # Blue (BGR format)\n",
    "blue_overlay1[:, :] = [0, 0, 200]\n",
    "alpha=0.5\n",
    "result_image = cv2.addWeighted(image, 1 - alpha, blue_overlay, alpha, 0)\n",
    "result_image1 = cv2.addWeighted(image, 0.2,blue_overlay1 , 0.7, 0)\n",
    "kernel_size = (5, 5)\n",
    "cv2.imshow('Original Image', image)\n",
    "cv2.imshow('Gaussian Blur Image', cv2.GaussianBlur(image, kernel_size, 0))\n",
    "cv2.imshow('Blue Gaussian Blur Image', cv2.GaussianBlur(result_image, kernel_size, 0))\n",
    "cv2.imshow('RED Gaussian Blur Image', cv2.GaussianBlur(result_image1, kernel_size, 0))\n",
    "\n",
    "cv2.waitKey(0)\n",
    "cv2.destroyAllWindows()"
   ]
  },
  {
   "cell_type": "code",
   "execution_count": 12,
   "id": "8b6fef0a-a0c5-4165-85d3-2b334316a732",
   "metadata": {},
   "outputs": [],
   "source": [
    "image = cv2.imread('1.jpeg')\n",
    "img2=cv2.imread(\"2.jpeg\")\n",
    "img3=cv2.add(image,img2)\n",
    "cv2.imshow('Original Image', img3)\n",
    "cv2.waitKey(0)\n",
    "cv2.destroyAllWindows()"
   ]
  },
  {
   "cell_type": "code",
   "execution_count": 20,
   "id": "aa680efb-ae37-40d0-bac9-513720396642",
   "metadata": {},
   "outputs": [],
   "source": [
    "\n",
    "image = cv2.imread('1.jpeg')\n",
    "img2=cv2.imread(\"2.jpeg\")\n",
    "img3=cv2.add(image,img2)\n",
    "img3=cv2.addWeighted(image,0.6,img2,0.4,0)\n",
    "cv2.imshow('Original Image', img3)\n",
    "cv2.waitKey(0)\n",
    "cv2.destroyAllWindows()"
   ]
  },
  {
   "cell_type": "code",
   "execution_count": 21,
   "id": "ee02ea6b-a624-49e8-887a-a85b16bf852b",
   "metadata": {},
   "outputs": [],
   "source": [
    "\n",
    "image = cv2.imread('1.jpeg')\n",
    "img2=cv2.imread(\"2.jpeg\")\n",
    "img3=cv2.add(image,img2)\n",
    "img3=cv2.addWeighted(image,0.6,img2,0.4,0)\n",
    "cv2.imwrite(\"newImage.jpg\",img3)\n",
    "cv2.imshow('Original Image', img3)\n",
    "cv2.waitKey(0)\n",
    "cv2.destroyAllWindows()"
   ]
  },
  {
   "cell_type": "code",
   "execution_count": 23,
   "id": "0652a4ea-61ff-489e-882d-e2d43f059eae",
   "metadata": {},
   "outputs": [],
   "source": [
    "\n",
    "image = cv2.imread('1.jpeg')\n",
    "img2=cv2.imread(\"2.jpeg\")\n",
    "img3=image+img2\n",
    "cv2.imshow(' +  Image', img3)\n",
    "cv2.waitKey(0)\n",
    "cv2.destroyAllWindows()"
   ]
  },
  {
   "cell_type": "code",
   "execution_count": 2,
   "id": "14e8008d-4c8a-4970-a578-1cc40ff50aaf",
   "metadata": {},
   "outputs": [],
   "source": [
    "import cv2\n",
    "import numpy as np\n",
    "img1 = cv2.imread('1.jpeg')\n",
    "img2=cv2.imread(\"2.jpeg\")\n",
    "img3 = cv2.multiply(img1,img2)\n",
    "img4 = np.multiply(img1,img2)\n",
    "\n",
    "cv2.imshow('New Image1', img3)\n",
    "\n",
    "cv2.imshow('New Image2', img4)\n",
    "cv2.waitKey(0)\n",
    "cv2.destroyAllWindows()"
   ]
  },
  {
   "cell_type": "code",
   "execution_count": 1,
   "id": "98ff75ee-63b3-42b9-88da-6e54b2a33fd5",
   "metadata": {},
   "outputs": [],
   "source": [
    "import cv2\n",
    "import numpy as np\n",
    "image=cv2.imread(\"download.jpeg\")\n",
    "canny_edges = cv2.Canny(image, 250, 500)  # Adjust the threshold values as needed\n",
    "cv2.imshow('Original image', image)\n",
    "cv2.imshow('canny edge image', canny_edges)\n",
    "cv2.waitKey(0)\n",
    "cv2.destroyAllWindows()"
   ]
  },
  {
   "cell_type": "code",
   "execution_count": 2,
   "id": "196fd293-7ce8-417f-80a2-0d7ad70c3940",
   "metadata": {},
   "outputs": [],
   "source": [
    "import cv2\n",
    "import numpy as np\n",
    "image = cv2.imread('download.jpeg', cv2.IMREAD_GRAYSCALE)\n",
    "\n",
    "contours, _ = cv2.findContours(image, cv2.RETR_EXTERNAL, cv2.CHAIN_APPROX_SIMPLE)\n",
    "\n",
    "# Create a copy of the original image to draw contours on\n",
    "contour_image = image.copy()\n",
    "\n",
    "cv2.drawContours(contour_image, contours, -1, (0, 255, 0), 2)\n",
    "\n",
    "cv2.imshow('Image with Contours', contour_image)\n",
    "cv2.waitKey(0)\n",
    "cv2.destroyAllWindows()\n"
   ]
  },
  {
   "cell_type": "code",
   "execution_count": 7,
   "id": "a9cbacf7-303c-443b-ac68-a86a244cc0a6",
   "metadata": {},
   "outputs": [],
   "source": [
    "import cv2\n",
    "import numpy as np\n",
    "\n",
    "image = cv2.imread('mighty.jpg')\n",
    "\n",
    "blue_overlay = np.zeros_like(image)\n",
    "blue_overlay[:, :] = [55, 50,200]  # Blue (BGR format)\n",
    "\n",
    "alpha = 0.5  # 0.0: fully transparent, 1.0: fully opaque\n",
    "\n",
    "# Blend the image with the blue overlay\n",
    "result_image = cv2.addWeighted(image, 1 - alpha, blue_overlay, alpha, 0)\n",
    "\n",
    "cv2.imshow('Original Image', image)\n",
    "cv2.imshow('Blue Image', result_image)\n",
    "cv2.waitKey(0)\n",
    "cv2.destroyAllWindows()"
   ]
  },
  {
   "cell_type": "code",
   "execution_count": 4,
   "id": "7a4bb5fe-95d0-4542-a511-0bcd6dd1b3e3",
   "metadata": {},
   "outputs": [
    {
     "ename": "error",
     "evalue": "OpenCV(4.8.1) D:\\a\\opencv-python\\opencv-python\\opencv\\modules\\highgui\\src\\window.cpp:971: error: (-215:Assertion failed) size.width>0 && size.height>0 in function 'cv::imshow'\n",
     "output_type": "error",
     "traceback": [
      "\u001b[1;31m---------------------------------------------------------------------------\u001b[0m",
      "\u001b[1;31merror\u001b[0m                                     Traceback (most recent call last)",
      "Cell \u001b[1;32mIn[4], line 10\u001b[0m\n\u001b[0;32m      8\u001b[0m contours, _ \u001b[38;5;241m=\u001b[39m cv2\u001b[38;5;241m.\u001b[39mfindContours(img, cv2\u001b[38;5;241m.\u001b[39mRETR_EXTERNAL, cv2\u001b[38;5;241m.\u001b[39mCHAIN_APPROX_SIMPLE)\n\u001b[0;32m      9\u001b[0m cv2\u001b[38;5;241m.\u001b[39mdrawContours(img, contours, \u001b[38;5;241m-\u001b[39m\u001b[38;5;241m1\u001b[39m, (\u001b[38;5;241m0\u001b[39m, \u001b[38;5;241m255\u001b[39m, \u001b[38;5;241m0\u001b[39m), \u001b[38;5;241m2\u001b[39m)\n\u001b[1;32m---> 10\u001b[0m \u001b[43mcv2\u001b[49m\u001b[38;5;241;43m.\u001b[39;49m\u001b[43mimshow\u001b[49m\u001b[43m(\u001b[49m\u001b[38;5;124;43m'\u001b[39;49m\u001b[38;5;124;43mImage with Contours\u001b[39;49m\u001b[38;5;124;43m'\u001b[39;49m\u001b[43m,\u001b[49m\u001b[43m \u001b[49m\u001b[43mimg\u001b[49m\u001b[43m)\u001b[49m\n\u001b[0;32m     11\u001b[0m \u001b[38;5;28mprint\u001b[39m(\u001b[38;5;28mlen\u001b[39m(contours))\n\u001b[0;32m     12\u001b[0m cv2\u001b[38;5;241m.\u001b[39mwaitKey(\u001b[38;5;241m0\u001b[39m)\n",
      "\u001b[1;31merror\u001b[0m: OpenCV(4.8.1) D:\\a\\opencv-python\\opencv-python\\opencv\\modules\\highgui\\src\\window.cpp:971: error: (-215:Assertion failed) size.width>0 && size.height>0 in function 'cv::imshow'\n"
     ]
    }
   ],
   "source": [
    "import cv2\n",
    "import numpy as np\n",
    "image=np.zeros((1400,800,3),dtype=np.uint8)\n",
    "cv2.circle(image, (400, 150), 50, (255, 0, 0), -1)\n",
    "cv2.imshow(\"TestImages2 for crashing\",image)\n",
    "# cv2.imwrite(\"out.jpg\",image)\n",
    "img=cv2.imread(\"out.jpg\",cv2.IMREAD_GRAYSCALE)\n",
    "contours, _ = cv2.findContours(img, cv2.RETR_EXTERNAL, cv2.CHAIN_APPROX_SIMPLE)\n",
    "cv2.drawContours(img, contours, -1, (0, 255, 0), 2)\n",
    "cv2.imshow('Image with Contours', img)\n",
    "print(len(contours))\n",
    "cv2.waitKey(0)\n",
    "cv2.destroyAllWindows()"
   ]
  },
  {
   "cell_type": "code",
   "execution_count": 12,
   "id": "4148f7e4-9d2c-4546-a389-9ecc78620457",
   "metadata": {},
   "outputs": [],
   "source": [
    "import cv2\n",
    "\n",
    "image = cv2.imread('download.jpeg', cv2.IMREAD_GRAYSCALE)\n",
    "lower_threshold=255\n",
    "upper_threshold=0\n",
    "_, binary_threshold_image = cv2.threshold(image, 140, 255, cv2.THRESH_BINARY)\n",
    "adaptive_threshold_image = cv2.adaptiveThreshold(image, 255, cv2.ADAPTIVE_THRESH_MEAN_C, cv2.THRESH_BINARY, 11, 2)\n",
    "_, otsu_threshold_image = cv2.threshold(image, 0, 255, cv2.THRESH_BINARY + cv2.THRESH_OTSU)\n",
    "inrange_threshold_image = cv2.inRange(image, lower_threshold, upper_threshold)\n",
    "\n",
    "binary_threshold_image=cv2.resize(binary_threshold_image,(400,400))\n",
    "cv2.imshow(\"Test\", binary_threshold_image)\n",
    "cv2.waitKey(0)\n",
    "\n",
    "cv2.destroyAllWindows()"
   ]
  },
  {
   "cell_type": "code",
   "execution_count": 17,
   "id": "9be1d132-84ac-48dc-8cb8-496d7fd0a626",
   "metadata": {},
   "outputs": [],
   "source": [
    "import cv2\n",
    "import numpy as np\n",
    "\n",
    "image = cv2.imread('plate.png', cv2.IMREAD_GRAYSCALE)\n",
    "\n",
    "cv2.imshow('Original Grayscale Image', image)\n",
    "\n",
    "# Define kernel for operations\n",
    "kernel = np.ones((5, 5), np.uint8)\n",
    "\n",
    "# Erosion: Erodes away the boundaries of foreground objects\n",
    "erosion_image = cv2.erode(image, kernel, iterations=1)\n",
    "\n",
    "cv2.imshow('Erosion Image', erosion_image)\n",
    "\n",
    "# Dilation: Expands the boundaries of foreground objects\n",
    "dilation_image = cv2.dilate(image, kernel, iterations=1)\n",
    "\n",
    "cv2.imshow('Dilation Image', dilation_image)\n",
    "\n",
    "# Opening: Erosion followed by dilation, useful for noise reduction\n",
    "opening_image = cv2.morphologyEx(image, cv2.MORPH_OPEN, kernel)\n",
    "\n",
    "cv2.imshow('Opening Image', opening_image)\n",
    "\n",
    "# Closing: Dilation followed by erosion, useful for closing small holes in objects\n",
    "closing_image = cv2.morphologyEx(image, cv2.MORPH_CLOSE, kernel)\n",
    "\n",
    "cv2.imshow('Closing Image', closing_image)\n",
    "cv2.waitKey(0)\n",
    "cv2.destroyAllWindows()\n"
   ]
  },
  {
   "cell_type": "code",
   "execution_count": 19,
   "id": "298cc80f-12ad-4291-8e00-6d218e9b9925",
   "metadata": {},
   "outputs": [
    {
     "name": "stderr",
     "output_type": "stream",
     "text": [
      "C:\\Users\\vamsi\\AppData\\Local\\Temp\\ipykernel_18248\\4130301687.py:11: DeprecationWarning: Conversion of an array with ndim > 0 to a scalar is deprecated, and will error in future. Ensure you extract a single element from your array before performing this operation. (Deprecated NumPy 1.25.)\n",
      "  cv2.line(hist_image, (i, hist_image.shape[0]), (i, hist_image.shape[0] - int(histogram[i])), 255)\n"
     ]
    }
   ],
   "source": [
    "import cv2\n",
    "import numpy as np\n",
    "\n",
    "image = cv2.imread('download.jpeg', cv2.IMREAD_GRAYSCALE)\n",
    "\n",
    "histogram = cv2.calcHist([image], [0], None, [256], [0, 256])\n",
    "hist_image = np.zeros((100, 256), dtype=np.uint8)\n",
    "cv2.normalize(histogram, histogram, 0, hist_image.shape[0], cv2.NORM_MINMAX)\n",
    "\n",
    "for i in range(256):\n",
    "    cv2.line(hist_image, (i, hist_image.shape[0]), (i, hist_image.shape[0] - int(histogram[i])), 255)\n",
    "\n",
    "cv2.imshow('Histogram', hist_image)\n",
    "cv2.waitKey(0)\n",
    "cv2.destroyAllWindows()"
   ]
  },
  {
   "cell_type": "code",
   "execution_count": 21,
   "id": "00a81977-c6fb-43ee-b802-cb1d32d01706",
   "metadata": {},
   "outputs": [],
   "source": [
    "import cv2\r",
    "import numpy as np\r",
    "\r",
    "main_image = cv2.imread('1.jpeg')\r",
    "\r",
    "template = cv2.imread('newImage.jpg')\r",
    "result = cv2.matchTemplate(main_image, template, cv2.TM_CCOEFF_NORMED)\r",
    "\r",
    "# Find the location of the matched area\r",
    "min_val, max_val, min_loc, max_loc = cv2.minMaxLoc(result)\r",
    "\r",
    "# Draw a rectangle around the matched area\r",
    "h, w, _ = template.shape\r",
    "cv2.rectangle(main_image, max_loc, (max_loc[0] + w, max_loc[1] + h), (0, 255, 0), 2)\r",
    "\r",
    "# Display the result\r",
    "cv2.imshow('Matching Result', cv2.resize(main_image,(800,800)))\r",
    "cv2.imshow(\"Org Image\",template)\r",
    "cv2.waitKey(0)\r",
    "cv2.destroyAllWindows()\r"
   ]
  },
  {
   "cell_type": "code",
   "execution_count": null,
   "id": "4910589f-a5ec-4fc9-8ed7-568327ef80ee",
   "metadata": {},
   "outputs": [],
   "source": []
  }
 ],
 "metadata": {
  "kernelspec": {
   "display_name": "Python 3 (ipykernel)",
   "language": "python",
   "name": "python3"
  },
  "language_info": {
   "codemirror_mode": {
    "name": "ipython",
    "version": 3
   },
   "file_extension": ".py",
   "mimetype": "text/x-python",
   "name": "python",
   "nbconvert_exporter": "python",
   "pygments_lexer": "ipython3",
   "version": "3.11.5"
  }
 },
 "nbformat": 4,
 "nbformat_minor": 5
}
